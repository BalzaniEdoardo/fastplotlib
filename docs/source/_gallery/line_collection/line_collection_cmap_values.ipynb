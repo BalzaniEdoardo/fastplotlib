{
  "cells": [
    {
      "cell_type": "markdown",
      "metadata": {},
      "source": [
        "\n# Line Plot\nExample showing how to plot line collections\n"
      ]
    },
    {
      "cell_type": "code",
      "execution_count": null,
      "metadata": {
        "collapsed": false
      },
      "outputs": [],
      "source": [
        "# test_example = true\n\nfrom itertools import product\nimport numpy as np\nimport fastplotlib as fpl\n\n\ndef make_circle(center, radius: float, n_points: int = 75) -> np.ndarray:\n    theta = np.linspace(0, 2 * np.pi, n_points)\n    xs = radius * np.sin(theta)\n    ys = radius * np.cos(theta)\n\n    return np.column_stack([xs, ys]) + center\n\n\nspatial_dims = (50, 50)\n\ncircles = list()\nfor center in product(range(0, spatial_dims[0], 15), range(0, spatial_dims[1], 15)):\n    circles.append(make_circle(center, 5, n_points=75))\n\npos_xy = np.vstack(circles)\n\n# this makes 16 circles, so we can create 16 cmap values, so it will use these values to set the\n# color of the line based by using the cmap as a LUT with the corresponding cmap_value\n\n# highest values, lowest values, mid-high values, mid values\ncmap_values = [10] * 4 + [0] * 4 + [7] * 4 + [5] * 4\n\nplot = fpl.Plot()\n# to force a specific framework such as glfw:\n# plot = fpl.Plot(canvas=\"glfw\")\n\nplot.add_line_collection(\n    circles,\n    cmap=\"bwr\",\n    cmap_values=cmap_values,\n    thickness=10\n)\n\nplot.show()\n\nplot.canvas.set_logical_size(800, 800)\n\nif __name__ == \"__main__\":\n    print(__doc__)\n    fpl.run()"
      ]
    }
  ],
  "metadata": {
    "kernelspec": {
      "display_name": "Python 3",
      "language": "python",
      "name": "python3"
    },
    "language_info": {
      "codemirror_mode": {
        "name": "ipython",
        "version": 3
      },
      "file_extension": ".py",
      "mimetype": "text/x-python",
      "name": "python",
      "nbconvert_exporter": "python",
      "pygments_lexer": "ipython3",
      "version": "3.11.3"
    }
  },
  "nbformat": 4,
  "nbformat_minor": 0
}