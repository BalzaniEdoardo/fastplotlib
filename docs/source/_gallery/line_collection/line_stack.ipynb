{
  "cells": [
    {
      "cell_type": "markdown",
      "metadata": {},
      "source": [
        "\n# Line Plot\nExample showing how to plot line collections\n"
      ]
    },
    {
      "cell_type": "code",
      "execution_count": null,
      "metadata": {
        "collapsed": false
      },
      "outputs": [],
      "source": [
        "# test_example = true\n\nimport numpy as np\nimport fastplotlib as fpl\n\n\nxs = np.linspace(0, 100, 1000)\n# sine wave\nys = np.sin(xs) * 20\n\n# make 25 lines\ndata = np.vstack([ys] * 25)\n\nplot = fpl.Plot()\n# to force a specific framework such as glfw:\n# plot = fpl.Plot(canvas=\"glfw\")\n\n# line stack takes all the same arguments as line collection and behaves similarly\nplot.add_line_stack(data, cmap=\"jet\")\n\nplot.show(maintain_aspect=False)\n\nplot.canvas.set_logical_size(900, 600)\n\nif __name__ == \"__main__\":\n    print(__doc__)\n    fpl.run()"
      ]
    }
  ],
  "metadata": {
    "kernelspec": {
      "display_name": "Python 3",
      "language": "python",
      "name": "python3"
    },
    "language_info": {
      "codemirror_mode": {
        "name": "ipython",
        "version": 3
      },
      "file_extension": ".py",
      "mimetype": "text/x-python",
      "name": "python",
      "nbconvert_exporter": "python",
      "pygments_lexer": "ipython3",
      "version": "3.11.3"
    }
  },
  "nbformat": 4,
  "nbformat_minor": 0
}