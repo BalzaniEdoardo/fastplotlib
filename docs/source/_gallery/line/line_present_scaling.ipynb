{
  "cells": [
    {
      "cell_type": "markdown",
      "metadata": {},
      "source": [
        "\n# Line Plot\nExample showing present and scaling feature for lines.\n"
      ]
    },
    {
      "cell_type": "code",
      "execution_count": null,
      "metadata": {
        "collapsed": false
      },
      "outputs": [],
      "source": [
        "# test_example = true\n\nimport fastplotlib as fpl\nimport numpy as np\n\n\nplot = fpl.Plot()\n# to force a specific framework such as glfw:\n# plot = fpl.Plot(canvas=\"glfw\")\n\nxs = np.linspace(-10, 10, 100)\n# sine wave\nys = np.sin(xs)\nsine = np.dstack([xs, ys])[0]\n\n# cosine wave\nys = np.cos(xs) + 5\ncosine = np.dstack([xs, ys])[0]\n\n# sinc function\na = 0.5\nys = np.sinc(xs) * 3 + 8\nsinc = np.dstack([xs, ys])[0]\n\nsine_graphic = plot.add_line(data=sine, thickness=5, colors=\"magenta\")\n\n# you can also use colormaps for lines!\ncosine_graphic = plot.add_line(data=cosine, thickness=12, cmap=\"autumn\")\n\n# or a list of colors for each datapoint\ncolors = [\"r\"] * 25 + [\"purple\"] * 25 + [\"y\"] * 25 + [\"b\"] * 25\nsinc_graphic = plot.add_line(data=sinc, thickness=5, colors=colors)\n\nplot.show()\n\nsinc_graphic.present = False\n\nplot.canvas.set_logical_size(800, 800)\n\nplot.auto_scale()\n\nimg = np.asarray(plot.renderer.target.draw())\n\nif __name__ == \"__main__\":\n    print(__doc__)\n    fpl.run()"
      ]
    }
  ],
  "metadata": {
    "kernelspec": {
      "display_name": "Python 3",
      "language": "python",
      "name": "python3"
    },
    "language_info": {
      "codemirror_mode": {
        "name": "ipython",
        "version": 3
      },
      "file_extension": ".py",
      "mimetype": "text/x-python",
      "name": "python",
      "nbconvert_exporter": "python",
      "pygments_lexer": "ipython3",
      "version": "3.11.3"
    }
  },
  "nbformat": 4,
  "nbformat_minor": 0
}