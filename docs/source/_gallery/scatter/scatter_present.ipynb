{
  "cells": [
    {
      "cell_type": "markdown",
      "metadata": {},
      "source": [
        "\n# Scatter Plot\nExample showing present feature for scatter plot.\n"
      ]
    },
    {
      "cell_type": "code",
      "execution_count": null,
      "metadata": {
        "collapsed": false
      },
      "outputs": [],
      "source": [
        "# test_example = true\n\nimport fastplotlib as fpl\nimport numpy as np\nfrom pathlib import Path\n\n\nplot = fpl.Plot()\n\ndata_path = Path(__file__).parent.parent.joinpath(\"data\", \"iris.npy\")\ndata = np.load(data_path)\n\nn_points = 50\ncolors = [\"yellow\"] * n_points + [\"cyan\"] * n_points + [\"magenta\"] * n_points\n\nscatter_graphic = plot.add_scatter(data=data[:, :-1], sizes=6, alpha=0.7, colors=colors)\n\ncolors = [\"red\"] * n_points + [\"white\"] * n_points + [\"blue\"] * n_points\nscatter_graphic2 = plot.add_scatter(data=data[:, 1:], sizes=6, alpha=0.7, colors=colors)\n\nplot.show()\n\nplot.canvas.set_logical_size(800, 800)\n\nplot.auto_scale()\n\nscatter_graphic.present = False\n\nimg = np.asarray(plot.renderer.target.draw())\n\nif __name__ == \"__main__\":\n    print(__doc__)\n    fpl.run()"
      ]
    }
  ],
  "metadata": {
    "kernelspec": {
      "display_name": "Python 3",
      "language": "python",
      "name": "python3"
    },
    "language_info": {
      "codemirror_mode": {
        "name": "ipython",
        "version": 3
      },
      "file_extension": ".py",
      "mimetype": "text/x-python",
      "name": "python",
      "nbconvert_exporter": "python",
      "pygments_lexer": "ipython3",
      "version": "3.11.3"
    }
  },
  "nbformat": 4,
  "nbformat_minor": 0
}