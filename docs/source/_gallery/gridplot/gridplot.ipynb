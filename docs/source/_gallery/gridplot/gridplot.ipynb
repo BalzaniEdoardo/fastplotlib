{
  "cells": [
    {
      "cell_type": "markdown",
      "metadata": {},
      "source": [
        "\n# GridPlot Simple\nExample showing simple 2x2 GridPlot with Standard images from imageio.\n"
      ]
    },
    {
      "cell_type": "code",
      "execution_count": null,
      "metadata": {
        "collapsed": false
      },
      "outputs": [],
      "source": [
        "# test_example = true\n\nimport fastplotlib as fpl\nimport imageio.v3 as iio\n\n\nplot = fpl.GridPlot(shape=(2, 2))\n# to force a specific framework such as glfw:\n# plot = fpl.GridPlot(canvas=\"glfw\")\n\nim = iio.imread(\"imageio:clock.png\")\nim2 = iio.imread(\"imageio:astronaut.png\")\nim3 = iio.imread(\"imageio:coffee.png\")\nim4 = iio.imread(\"imageio:hubble_deep_field.png\")\n\nplot[0, 0].add_image(data=im)\nplot[0, 1].add_image(data=im2)\nplot[1, 0].add_image(data=im3)\nplot[1, 1].add_image(data=im4)\n\nplot.show()\n\nplot.canvas.set_logical_size(800, 800)\n\nfor subplot in plot:\n    subplot.auto_scale()\n\nif __name__ == \"__main__\":\n    print(__doc__)\n    fpl.run()"
      ]
    }
  ],
  "metadata": {
    "kernelspec": {
      "display_name": "Python 3",
      "language": "python",
      "name": "python3"
    },
    "language_info": {
      "codemirror_mode": {
        "name": "ipython",
        "version": 3
      },
      "file_extension": ".py",
      "mimetype": "text/x-python",
      "name": "python",
      "nbconvert_exporter": "python",
      "pygments_lexer": "ipython3",
      "version": "3.11.3"
    }
  },
  "nbformat": 4,
  "nbformat_minor": 0
}