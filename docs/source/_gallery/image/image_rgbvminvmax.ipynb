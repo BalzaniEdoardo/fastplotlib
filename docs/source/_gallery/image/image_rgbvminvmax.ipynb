{
  "cells": [
    {
      "cell_type": "markdown",
      "metadata": {},
      "source": [
        "\n# Simple Plot\nExample showing the simple plot followed by changing the vmin/vmax with 512 x 512 2D RGB image.\n"
      ]
    },
    {
      "cell_type": "code",
      "execution_count": null,
      "metadata": {
        "collapsed": false
      },
      "outputs": [],
      "source": [
        "# test_example = true\n\nimport fastplotlib as fpl\nimport imageio.v3 as iio\n\n\nplot = fpl.Plot()\n# to force a specific framework such as glfw:\n# plot = fpl.Plot(canvas=\"glfw\")\n\nim = iio.imread(\"imageio:astronaut.png\")\n\n# plot the image data\nimage_graphic = plot.add_image(data=im, name=\"iio astronaut\")\n\nplot.show()\n\nplot.canvas.set_logical_size(800, 800)\n\nplot.auto_scale()\n\nimage_graphic.cmap.vmin = 0.5\nimage_graphic.cmap.vmax = 0.75\n\n\nif __name__ == \"__main__\":\n    print(__doc__)\n    fpl.run()"
      ]
    }
  ],
  "metadata": {
    "kernelspec": {
      "display_name": "Python 3",
      "language": "python",
      "name": "python3"
    },
    "language_info": {
      "codemirror_mode": {
        "name": "ipython",
        "version": 3
      },
      "file_extension": ".py",
      "mimetype": "text/x-python",
      "name": "python",
      "nbconvert_exporter": "python",
      "pygments_lexer": "ipython3",
      "version": "3.11.3"
    }
  },
  "nbformat": 4,
  "nbformat_minor": 0
}