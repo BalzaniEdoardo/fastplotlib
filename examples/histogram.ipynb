{
 "cells": [
  {
   "cell_type": "code",
   "execution_count": 1,
   "id": "77bd602d-aed3-4ddc-9917-46f3429d32b9",
   "metadata": {
    "tags": []
   },
   "outputs": [],
   "source": [
    "import numpy as np\n",
    "from matplotlib import pyplot as plt\n",
    "from fastplotlib import Plot, Histogram"
   ]
  },
  {
   "cell_type": "code",
   "execution_count": 2,
   "id": "0dc85d4e-4554-44e5-bf05-96ceb339e57f",
   "metadata": {},
   "outputs": [
    {
     "data": {
      "application/vnd.jupyter.widget-view+json": {
       "model_id": "86046d213b784abfac6fd0106775aff8",
       "version_major": 2,
       "version_minor": 0
      },
      "text/plain": [
       "RFBOutputContext()"
      ]
     },
     "metadata": {},
     "output_type": "display_data"
    }
   ],
   "source": [
    "data = np.random.normal(0, 256, 2048)\n",
    "\n",
    "plot = Plot()"
   ]
  },
  {
   "cell_type": "code",
   "execution_count": 3,
   "id": "ef4fbdb5-f7a3-44c3-acef-38d127dccdc9",
   "metadata": {},
   "outputs": [
    {
     "name": "stderr",
     "output_type": "stream",
     "text": [
      "/home/kushal/python-venvs/mescore/lib/python3.10/site-packages/pygfx/geometries/_plane.py:19: RuntimeWarning: invalid value encountered in true_divide\n",
      "  texcoords = (positions[..., :2] + dim / 2) / dim\n"
     ]
    },
    {
     "data": {
      "text/html": [
       "<div class='initial-snapshot-b641933e23d54c0ea1d2e47d49388bd7' style='position:relative;'><img src='data:image/png;base64,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' style='width:500.0px;height:300.0px;' /><div style='position: absolute; top:0; left:0; padding:1px 3px; background: #777; color:#fff; font-size: 90%; font-family:sans-serif; '>initial snapshot</div></div>"
      ],
      "text/plain": [
       "<jupyter_rfb._utils.Snapshot object>"
      ]
     },
     "metadata": {},
     "output_type": "display_data"
    },
    {
     "data": {
      "application/vnd.jupyter.widget-view+json": {
       "model_id": "b641933e23d54c0ea1d2e47d49388bd7",
       "version_major": 2,
       "version_minor": 0
      },
      "text/plain": [
       "JupyterWgpuCanvas()"
      ]
     },
     "execution_count": 3,
     "metadata": {},
     "output_type": "execute_result"
    }
   ],
   "source": [
    "plot.histogram(data=data, bins=100)\n",
    "\n",
    "plot.set_axes_visibility(True)\n",
    "plot.show()"
   ]
  },
  {
   "cell_type": "code",
   "execution_count": null,
   "id": "4c72d91a-0771-46c1-a2b8-d555ee47291f",
   "metadata": {},
   "outputs": [],
   "source": []
  }
 ],
 "metadata": {
  "kernelspec": {
   "display_name": "Python 3 (ipykernel)",
   "language": "python",
   "name": "python3"
  },
  "language_info": {
   "codemirror_mode": {
    "name": "ipython",
    "version": 3
   },
   "file_extension": ".py",
   "mimetype": "text/x-python",
   "name": "python",
   "nbconvert_exporter": "python",
   "pygments_lexer": "ipython3",
   "version": "3.10.4"
  }
 },
 "nbformat": 4,
 "nbformat_minor": 5
}
