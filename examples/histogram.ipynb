{
 "cells": [
  {
   "cell_type": "code",
   "execution_count": 1,
   "id": "77bd602d-aed3-4ddc-9917-46f3429d32b9",
   "metadata": {
    "tags": []
   },
   "outputs": [],
   "source": [
    "import numpy as np\n",
    "from matplotlib import pyplot as plt\n",
    "from fastplotlib import Plot, Histogram"
   ]
  },
  {
   "cell_type": "code",
   "execution_count": 2,
   "id": "0dc85d4e-4554-44e5-bf05-96ceb339e57f",
   "metadata": {},
   "outputs": [
    {
     "data": {
      "application/vnd.jupyter.widget-view+json": {
       "model_id": "c2adf222a2fb4b5cab43c24aa9729a1a",
       "version_major": 2,
       "version_minor": 0
      },
      "text/plain": [
       "RFBOutputContext()"
      ]
     },
     "metadata": {},
     "output_type": "display_data"
    }
   ],
   "source": [
    "data = np.random.normal(0, 256, 2048)\n",
    "\n",
    "plot = Plot()"
   ]
  },
  {
   "cell_type": "code",
   "execution_count": 3,
   "id": "ef4fbdb5-f7a3-44c3-acef-38d127dccdc9",
   "metadata": {},
   "outputs": [
    {
     "name": "stderr",
     "output_type": "stream",
     "text": [
      "/home/kushal/Insync/kushalkolar@gmail.com/drive/repos/pygfx/pygfx/geometries/_plane.py:19: RuntimeWarning: invalid value encountered in true_divide\n",
      "  texcoords = (positions[..., :2] + dim / 2) / dim\n"
     ]
    },
    {
     "data": {
      "text/html": [
       "<div class='initial-snapshot-6b60165554804f6da43ad1b40f9baffa' style='position:relative;'><img src='data:image/png;base64,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' style='width:500.0px;height:300.0px;' /><div style='position: absolute; top:0; left:0; padding:1px 3px; background: #777; color:#fff; font-size: 90%; font-family:sans-serif; '>initial snapshot</div></div>"
      ],
      "text/plain": [
       "<jupyter_rfb._utils.Snapshot object>"
      ]
     },
     "metadata": {},
     "output_type": "display_data"
    },
    {
     "data": {
      "application/vnd.jupyter.widget-view+json": {
       "model_id": "6b60165554804f6da43ad1b40f9baffa",
       "version_major": 2,
       "version_minor": 0
      },
      "text/plain": [
       "JupyterWgpuCanvas()"
      ]
     },
     "execution_count": 3,
     "metadata": {},
     "output_type": "execute_result"
    }
   ],
   "source": [
    "plot.histogram(data=data, bins=100)\n",
    "\n",
    "plot.set_axes_visibility(True)\n",
    "plot.show()"
   ]
  },
  {
   "cell_type": "code",
   "execution_count": null,
   "id": "4c72d91a-0771-46c1-a2b8-d555ee47291f",
   "metadata": {},
   "outputs": [],
   "source": []
  }
 ],
 "metadata": {
  "kernelspec": {
   "display_name": "Python 3 (ipykernel)",
   "language": "python",
   "name": "python3"
  },
  "language_info": {
   "codemirror_mode": {
    "name": "ipython",
    "version": 3
   },
   "file_extension": ".py",
   "mimetype": "text/x-python",
   "name": "python",
   "nbconvert_exporter": "python",
   "pygments_lexer": "ipython3",
   "version": "3.9.2"
  }
 },
 "nbformat": 4,
 "nbformat_minor": 5
}
