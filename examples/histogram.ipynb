{
 "cells": [
  {
   "cell_type": "code",
   "execution_count": 1,
   "id": "77bd602d-aed3-4ddc-9917-46f3429d32b9",
   "metadata": {
    "tags": []
   },
   "outputs": [],
   "source": [
    "import numpy as np\n",
    "from fastplotlib import Plot"
   ]
  },
  {
   "cell_type": "code",
   "execution_count": 2,
   "id": "0dc85d4e-4554-44e5-bf05-96ceb339e57f",
   "metadata": {},
   "outputs": [
    {
     "data": {
      "application/vnd.jupyter.widget-view+json": {
       "model_id": "bfd22d77d24549128dd925e4114c929e",
       "version_major": 2,
       "version_minor": 0
      },
      "text/plain": [
       "RFBOutputContext()"
      ]
     },
     "metadata": {},
     "output_type": "display_data"
    }
   ],
   "source": [
    "data = np.random.normal(0, 256, 2048)\n",
    "\n",
    "plot = Plot()"
   ]
  },
  {
   "cell_type": "code",
   "execution_count": 3,
   "id": "ef4fbdb5-f7a3-44c3-acef-38d127dccdc9",
   "metadata": {},
   "outputs": [
    {
     "name": "stderr",
     "output_type": "stream",
     "text": [
      "/home/kushal/python-venvs/mescore/lib/python3.10/site-packages/pygfx/geometries/_plane.py:19: RuntimeWarning: invalid value encountered in true_divide\n",
      "  texcoords = (positions[..., :2] + dim / 2) / dim\n"
     ]
    },
    {
     "data": {
      "text/html": [
       "<div class='initial-snapshot-36e4fff0aa7a4fc993c70f7cfc2aaf4a' style='position:relative;'><img src='data:image/png;base64,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' style='width:500.0px;height:300.0px;' /><div style='position: absolute; top:0; left:0; padding:1px 3px; background: #777; color:#fff; font-size: 90%; font-family:sans-serif; '>initial snapshot</div></div>"
      ],
      "text/plain": [
       "<jupyter_rfb._utils.Snapshot object>"
      ]
     },
     "metadata": {},
     "output_type": "display_data"
    },
    {
     "data": {
      "application/vnd.jupyter.widget-view+json": {
       "model_id": "36e4fff0aa7a4fc993c70f7cfc2aaf4a",
       "version_major": 2,
       "version_minor": 0
      },
      "text/plain": [
       "JupyterWgpuCanvas()"
      ]
     },
     "execution_count": 3,
     "metadata": {},
     "output_type": "execute_result"
    }
   ],
   "source": [
    "plot.histogram(data=data, bins=100)\n",
    "\n",
    "plot.set_axes_visibility(True)\n",
    "plot.show()"
   ]
  },
  {
   "cell_type": "code",
   "execution_count": null,
   "id": "4c72d91a-0771-46c1-a2b8-d555ee47291f",
   "metadata": {},
   "outputs": [],
   "source": []
  }
 ],
 "metadata": {
  "kernelspec": {
   "display_name": "Python 3 (ipykernel)",
   "language": "python",
   "name": "python3"
  },
  "language_info": {
   "codemirror_mode": {
    "name": "ipython",
    "version": 3
   },
   "file_extension": ".py",
   "mimetype": "text/x-python",
   "name": "python",
   "nbconvert_exporter": "python",
   "pygments_lexer": "ipython3",
   "version": "3.10.5"
  }
 },
 "nbformat": 4,
 "nbformat_minor": 5
}
