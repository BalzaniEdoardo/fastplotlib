{
 "cells": [
  {
   "cell_type": "code",
   "execution_count": null,
   "id": "737b7aee-8cfb-47f0-b595-bc3749e995ea",
   "metadata": {},
   "outputs": [],
   "source": [
    "import fastplotlib as fpl\n",
    "import imageio.v3 as iio\n",
    "import numpy as np"
   ]
  },
  {
   "cell_type": "code",
   "execution_count": null,
   "id": "92d3b41a-2d38-40b7-9156-1755711d4964",
   "metadata": {},
   "outputs": [],
   "source": [
    "voldata = iio.imread(\"imageio:stent.npz\")"
   ]
  },
  {
   "cell_type": "code",
   "execution_count": null,
   "id": "ef67db3d-484d-40c5-9725-f54b4f99d1d7",
   "metadata": {},
   "outputs": [],
   "source": [
    "voldata.dtype"
   ]
  },
  {
   "cell_type": "code",
   "execution_count": null,
   "id": "28efdd55-a6fd-4ffd-a934-7a0b759cee96",
   "metadata": {},
   "outputs": [],
   "source": [
    "plot = fpl.Plot(camera=\"3d\")\n",
    "\n",
    "plot.add_volume(voldata)\n",
    "\n",
    "plot.show()"
   ]
  },
  {
   "cell_type": "code",
   "execution_count": null,
   "id": "80df1d1c-5ff7-4174-aeb7-4dbb534fd33f",
   "metadata": {},
   "outputs": [],
   "source": [
    "plot.controller = \"orbit\""
   ]
  }
 ],
 "metadata": {
  "kernelspec": {
   "display_name": "Python 3 (ipykernel)",
   "language": "python",
   "name": "python3"
  },
  "language_info": {
   "codemirror_mode": {
    "name": "ipython",
    "version": 3
   },
   "file_extension": ".py",
   "mimetype": "text/x-python",
   "name": "python",
   "nbconvert_exporter": "python",
   "pygments_lexer": "ipython3",
   "version": "3.11.3"
  }
 },
 "nbformat": 4,
 "nbformat_minor": 5
}
