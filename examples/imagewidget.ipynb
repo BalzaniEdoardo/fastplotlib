{
 "cells": [
  {
   "cell_type": "code",
   "execution_count": 1,
   "id": "111354d5-36ee-4bd5-9376-aaece6eb5b4e",
   "metadata": {},
   "outputs": [],
   "source": [
    "%load_ext autoreload"
   ]
  },
  {
   "cell_type": "code",
   "execution_count": 2,
   "id": "8404aaae-ba87-426c-a3cf-f3968640b8e3",
   "metadata": {},
   "outputs": [],
   "source": [
    "%autoreload 2"
   ]
  },
  {
   "cell_type": "code",
   "execution_count": 3,
   "id": "2253ccaa-670c-4c6a-9e81-48963bd1d964",
   "metadata": {},
   "outputs": [],
   "source": [
    "from fastplotlib.widgets.image import ImageWidget\n",
    "import numpy as np"
   ]
  },
  {
   "cell_type": "code",
   "execution_count": 4,
   "id": "9775a1f0-34c3-4583-8dcc-00707095150b",
   "metadata": {},
   "outputs": [],
   "source": [
    "a = np.random.rand(100, 5, 512, 512)\n",
    "b = np.random.rand(100, 5, 512, 512)\n",
    "c = np.random.rand(100, 5, 512, 512)\n",
    "d = np.random.rand(100, 5, 512, 512)"
   ]
  },
  {
   "cell_type": "code",
   "execution_count": 5,
   "id": "f1ade87e-c5bf-4258-9e5a-89d5cd41f348",
   "metadata": {},
   "outputs": [
    {
     "data": {
      "application/vnd.jupyter.widget-view+json": {
       "model_id": "3783d46da0c2448a82e7209ccf48b0c8",
       "version_major": 2,
       "version_minor": 0
      },
      "text/plain": [
       "RFBOutputContext()"
      ]
     },
     "metadata": {},
     "output_type": "display_data"
    }
   ],
   "source": [
    "iw = ImageWidget(a, slider_axes=[0, 1], cmap=\"gnuplot2\")"
   ]
  },
  {
   "cell_type": "code",
   "execution_count": 6,
   "id": "4ad670f9-53d7-4499-9d50-5ae2ef838f25",
   "metadata": {},
   "outputs": [
    {
     "data": {
      "application/vnd.jupyter.widget-view+json": {
       "model_id": "91eb46fd92e8431ea22b78bfd687d0b7",
       "version_major": 2,
       "version_minor": 0
      },
      "text/plain": [
       "VBox(children=(JupyterWgpuCanvas(), IntSlider(value=0, description='Axis: t', max=99), IntSlider(value=0, desc…"
      ]
     },
     "metadata": {},
     "output_type": "display_data"
    }
   ],
   "source": [
    "iw.show()"
   ]
  },
  {
   "cell_type": "code",
   "execution_count": 7,
   "id": "8b910f06-2cf4-4363-8b58-71c32d6f9c64",
   "metadata": {},
   "outputs": [
    {
     "data": {
      "application/vnd.jupyter.widget-view+json": {
       "model_id": "9194bd04719b4665bfc33e912474659b",
       "version_major": 2,
       "version_minor": 0
      },
      "text/plain": [
       "RFBOutputContext()"
      ]
     },
     "metadata": {},
     "output_type": "display_data"
    }
   ],
   "source": [
    "iw = ImageWidget([a, b, c, d], slider_axes=[\"t\", \"z\"], axes_order=\"tzxy\", cmap=\"gnuplot2\")"
   ]
  },
  {
   "cell_type": "code",
   "execution_count": 8,
   "id": "f1be6cd2-9263-4da0-9280-48444dd74c1f",
   "metadata": {},
   "outputs": [
    {
     "data": {
      "application/vnd.jupyter.widget-view+json": {
       "model_id": "c803b14974eb45c6b2a17be83faccc39",
       "version_major": 2,
       "version_minor": 0
      },
      "text/plain": [
       "VBox(children=(JupyterWgpuCanvas(), IntSlider(value=0, description='Axis: t', max=99), IntSlider(value=0, desc…"
      ]
     },
     "metadata": {},
     "output_type": "display_data"
    }
   ],
   "source": [
    "iw.show()"
   ]
  },
  {
   "cell_type": "code",
   "execution_count": null,
   "id": "2f39df8c-5248-471e-a05d-5cf667da138e",
   "metadata": {},
   "outputs": [],
   "source": []
  }
 ],
 "metadata": {
  "kernelspec": {
   "display_name": "Python 3 (ipykernel)",
   "language": "python",
   "name": "python3"
  },
  "language_info": {
   "codemirror_mode": {
    "name": "ipython",
    "version": 3
   },
   "file_extension": ".py",
   "mimetype": "text/x-python",
   "name": "python",
   "nbconvert_exporter": "python",
   "pygments_lexer": "ipython3",
   "version": "3.10.5"
  }
 },
 "nbformat": 4,
 "nbformat_minor": 5
}
