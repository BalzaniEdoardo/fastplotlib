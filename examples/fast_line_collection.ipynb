{
 "cells": [
  {
   "cell_type": "code",
   "execution_count": null,
   "id": "41b7932e-7948-4fbd-890e-7b20c0cd0cb5",
   "metadata": {
    "tags": []
   },
   "outputs": [],
   "source": [
    "from typing import *\n",
    "\n",
    "import fastplotlib as fpl\n",
    "import numpy as np\n",
    "from fastplotlib.graphics.fast_line_collection import FastLineCollection\n",
    "from itertools import product"
   ]
  },
  {
   "cell_type": "code",
   "execution_count": null,
   "id": "c93dff0a-d859-4a64-91fd-fcfdc909b162",
   "metadata": {
    "tags": []
   },
   "outputs": [],
   "source": [
    "def make_circle(center: Tuple[float, float], radius: float, n_points: int = 50) -> np.ndarray:\n",
    "    theta = np.linspace(0, 2 * np.pi, n_points)\n",
    "    xs = radius * np.sin(theta)\n",
    "    ys = radius * np.cos(theta)\n",
    "    \n",
    "    return np.column_stack([xs, ys]) + center"
   ]
  },
  {
   "cell_type": "code",
   "execution_count": null,
   "id": "050d3c22-8666-4fb4-8c90-2bfcfa2f88f1",
   "metadata": {
    "tags": []
   },
   "outputs": [],
   "source": [
    "spatial_dims = (500, 500)\n",
    "\n",
    "circles = list()\n",
    "for center in product(range(0, spatial_dims[0], 15), range(0, spatial_dims[1], 15)):\n",
    "    circles.append(make_circle(center, 5, n_points=75))"
   ]
  },
  {
   "cell_type": "code",
   "execution_count": null,
   "id": "d8414d88-1188-4bfe-9460-6aa17007cf07",
   "metadata": {
    "tags": []
   },
   "outputs": [],
   "source": [
    "len(circles)"
   ]
  },
  {
   "cell_type": "code",
   "execution_count": null,
   "id": "b3c45fd8-0ef1-4ce5-95ea-d7c5f193ca01",
   "metadata": {
    "tags": []
   },
   "outputs": [],
   "source": [
    "temporal = list()\n",
    "\n",
    "xs = np.arange(0, 10_000)\n",
    "for i in range(len(circles)):\n",
    "    if i % 2 == 0:\n",
    "        ys = np.sin(xs) * 10\n",
    "    else:\n",
    "        ys = np.cos(xs) * 10\n",
    "    \n",
    "    temporal.append(ys)"
   ]
  },
  {
   "cell_type": "code",
   "execution_count": null,
   "id": "46f0dad6-2fd5-4bc0-866a-a56611202a2b",
   "metadata": {
    "tags": []
   },
   "outputs": [],
   "source": [
    "temporal = np.vstack(temporal)"
   ]
  },
  {
   "cell_type": "code",
   "execution_count": null,
   "id": "92730678-c4fd-414c-b488-19e0addbf206",
   "metadata": {
    "tags": []
   },
   "outputs": [],
   "source": [
    "plot = fpl.GridPlot((1, 2))\n",
    "\n",
    "fl = FastLineCollection(circles, colors=\"random\")\n",
    "\n",
    "contours = plot[0, 0].add_graphic(fl)\n",
    "\n",
    "heatmap = plot[0, 1].add_heatmap(temporal)\n",
    "selector = heatmap.add_linear_region_selector(axis=\"y\")\n",
    "\n",
    "plot.show()"
   ]
  },
  {
   "cell_type": "code",
   "execution_count": null,
   "id": "01c7af34-63bd-4f44-8aed-fb433cae2519",
   "metadata": {
    "tags": []
   },
   "outputs": [],
   "source": [
    "def set_visible_alpha(ev):\n",
    "    ixs_visible = ev.pick_info[\"selected_indices\"]\n",
    "    ixs_hide = np.setdiff1d(np.arange(len(circles)), ixs_visible)\n",
    "    \n",
    "    for i in ixs_visible:\n",
    "        fl.graphics[i].colors[:, -1] = 1\n",
    "        \n",
    "    for i in ixs_hide:\n",
    "        fl.graphics[i].colors[:, -1] = 0"
   ]
  },
  {
   "cell_type": "code",
   "execution_count": null,
   "id": "ee02b97f-a79c-447a-b888-0766cd0ecfce",
   "metadata": {
    "tags": []
   },
   "outputs": [],
   "source": [
    "selector.bounds.add_event_handler(set_visible_alpha)"
   ]
  },
  {
   "cell_type": "code",
   "execution_count": null,
   "id": "65be3122-6114-4f52-918d-95fa8f0bfd45",
   "metadata": {},
   "outputs": [],
   "source": []
  }
 ],
 "metadata": {
  "kernelspec": {
   "display_name": "Python 3 (ipykernel)",
   "language": "python",
   "name": "python3"
  },
  "language_info": {
   "codemirror_mode": {
    "name": "ipython",
    "version": 3
   },
   "file_extension": ".py",
   "mimetype": "text/x-python",
   "name": "python",
   "nbconvert_exporter": "python",
   "pygments_lexer": "ipython3",
   "version": "3.11.3"
  }
 },
 "nbformat": 4,
 "nbformat_minor": 5
}
