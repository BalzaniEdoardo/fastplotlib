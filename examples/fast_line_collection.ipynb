{
 "cells": [
  {
   "cell_type": "code",
   "execution_count": 1,
   "id": "41b7932e-7948-4fbd-890e-7b20c0cd0cb5",
   "metadata": {
    "tags": []
   },
   "outputs": [],
   "source": [
    "from typing import *\n",
    "\n",
    "import fastplotlib as fpl\n",
    "import numpy as np\n",
    "from fastplotlib.graphics.fast_line_collection import FastLineCollection\n",
    "from itertools import product"
   ]
  },
  {
   "cell_type": "code",
   "execution_count": 2,
   "id": "c93dff0a-d859-4a64-91fd-fcfdc909b162",
   "metadata": {
    "tags": []
   },
   "outputs": [],
   "source": [
    "def make_circle(center: Tuple[float, float], radius: float, n_points: int = 50) -> np.ndarray:\n",
    "    theta = np.linspace(0, 2 * np.pi, n_points)\n",
    "    xs = radius * np.sin(theta)\n",
    "    ys = radius * np.cos(theta)\n",
    "    \n",
    "    return np.column_stack([xs, ys]) + center"
   ]
  },
  {
   "cell_type": "code",
   "execution_count": 32,
   "id": "050d3c22-8666-4fb4-8c90-2bfcfa2f88f1",
   "metadata": {
    "tags": []
   },
   "outputs": [],
   "source": [
    "spatial_dims = (500, 500)\n",
    "\n",
    "circles = list()\n",
    "for center in product(range(0, spatial_dims[0], 15), range(0, spatial_dims[1], 15)):\n",
    "    circles.append(make_circle(center, 5, n_points=75))"
   ]
  },
  {
   "cell_type": "code",
   "execution_count": 33,
   "id": "d8414d88-1188-4bfe-9460-6aa17007cf07",
   "metadata": {
    "tags": []
   },
   "outputs": [
    {
     "data": {
      "text/plain": [
       "1156"
      ]
     },
     "execution_count": 33,
     "metadata": {},
     "output_type": "execute_result"
    }
   ],
   "source": [
    "len(circles)"
   ]
  },
  {
   "cell_type": "code",
   "execution_count": 34,
   "id": "fd845947-9671-4821-8e04-61ca43adfba4",
   "metadata": {
    "tags": []
   },
   "outputs": [
    {
     "data": {
      "text/plain": [
       "(75, 2)"
      ]
     },
     "execution_count": 34,
     "metadata": {},
     "output_type": "execute_result"
    }
   ],
   "source": [
    "circles[0].shape"
   ]
  },
  {
   "cell_type": "code",
   "execution_count": 35,
   "id": "b3c45fd8-0ef1-4ce5-95ea-d7c5f193ca01",
   "metadata": {
    "tags": []
   },
   "outputs": [],
   "source": [
    "temporal = list()\n",
    "\n",
    "xs = np.arange(0, 10_000)\n",
    "for i in range(len(circles)):\n",
    "    if i % 2 == 0:\n",
    "        ys = np.sin(xs) * 10\n",
    "    else:\n",
    "        ys = np.cos(xs) * 10\n",
    "    \n",
    "    temporal.append(ys)"
   ]
  },
  {
   "cell_type": "code",
   "execution_count": 36,
   "id": "46f0dad6-2fd5-4bc0-866a-a56611202a2b",
   "metadata": {
    "tags": []
   },
   "outputs": [],
   "source": [
    "temporal = np.vstack(temporal)"
   ]
  },
  {
   "cell_type": "code",
   "execution_count": 37,
   "id": "92730678-c4fd-414c-b488-19e0addbf206",
   "metadata": {
    "tags": []
   },
   "outputs": [
    {
     "data": {
      "application/vnd.jupyter.widget-view+json": {
       "model_id": "41069f84c0324dcc9217901c6def7e8b",
       "version_major": 2,
       "version_minor": 0
      },
      "text/plain": [
       "RFBOutputContext()"
      ]
     },
     "metadata": {},
     "output_type": "display_data"
    },
    {
     "data": {
      "application/vnd.jupyter.widget-view+json": {
       "model_id": "269aeb8e3c7e4ddb8a0dbdbd9b2f3296",
       "version_major": 2,
       "version_minor": 0
      },
      "text/plain": [
       "VBox(children=(JupyterWgpuCanvas(), HBox(children=(Button(icon='expand-arrows-alt', layout=Layout(width='auto'…"
      ]
     },
     "execution_count": 37,
     "metadata": {},
     "output_type": "execute_result"
    }
   ],
   "source": [
    "plot = fpl.GridPlot((1, 2))\n",
    "\n",
    "fl = FastLineCollection(circles, colors=\"random\")\n",
    "\n",
    "contours = plot[0, 0].add_graphic(fl)\n",
    "\n",
    "heatmap = plot[0, 1].add_heatmap(temporal)\n",
    "selector = heatmap.add_linear_region_selector(axis=\"y\")\n",
    "\n",
    "plot.show()"
   ]
  },
  {
   "cell_type": "code",
   "execution_count": 38,
   "id": "01c7af34-63bd-4f44-8aed-fb433cae2519",
   "metadata": {
    "tags": []
   },
   "outputs": [],
   "source": [
    "def set_visible_alpha(ev):\n",
    "    ixs_visible = ev.pick_info[\"selected_indices\"]\n",
    "    ixs_hide = np.setdiff1d(np.arange(len(circles)), ixs_visible)\n",
    "    \n",
    "    for i in ixs_visible:\n",
    "        fl.graphics[i].colors[:, -1] = 1\n",
    "        \n",
    "    for i in ixs_hide:\n",
    "        fl.graphics[i].colors[:, -1] = 0"
   ]
  },
  {
   "cell_type": "code",
   "execution_count": 39,
   "id": "ee02b97f-a79c-447a-b888-0766cd0ecfce",
   "metadata": {
    "tags": []
   },
   "outputs": [],
   "source": [
    "selector.bounds.add_event_handler(set_visible_alpha)"
   ]
  },
  {
   "cell_type": "code",
   "execution_count": 45,
   "id": "65be3122-6114-4f52-918d-95fa8f0bfd45",
   "metadata": {
    "tags": []
   },
   "outputs": [],
   "source": [
    "class Ev:\n",
    "    pick_info = {\"selected_indices\": np.arange(900, 1100)}"
   ]
  },
  {
   "cell_type": "code",
   "execution_count": 23,
   "id": "73be116f-a159-46aa-a774-2886d1cef166",
   "metadata": {
    "tags": []
   },
   "outputs": [
    {
     "name": "stdout",
     "output_type": "stream",
     "text": [
      "The viztracer extension is already loaded. To reload it, use:\n",
      "  %reload_ext viztracer\n"
     ]
    }
   ],
   "source": [
    "%load_ext viztracer"
   ]
  },
  {
   "cell_type": "code",
   "execution_count": 46,
   "id": "bf70ab83-a5ff-4dde-86fb-018b94e9df6c",
   "metadata": {
    "tags": []
   },
   "outputs": [],
   "source": [
    "from time import time"
   ]
  },
  {
   "cell_type": "code",
   "execution_count": 47,
   "id": "7dbb5b2f-c86e-4304-91e6-0ea9549d12fe",
   "metadata": {
    "tags": []
   },
   "outputs": [
    {
     "name": "stdout",
     "output_type": "stream",
     "text": [
      "0.014173746109008789\n"
     ]
    }
   ],
   "source": [
    "t1 = time()\n",
    "set_visible_alpha(Ev())\n",
    "print(time() - t1)"
   ]
  },
  {
   "cell_type": "code",
   "execution_count": null,
   "id": "7eef9ba1-a2eb-4dac-9b39-e43e141c9de9",
   "metadata": {},
   "outputs": [],
   "source": []
  }
 ],
 "metadata": {
  "kernelspec": {
   "display_name": "Python 3 (ipykernel)",
   "language": "python",
   "name": "python3"
  },
  "language_info": {
   "codemirror_mode": {
    "name": "ipython",
    "version": 3
   },
   "file_extension": ".py",
   "mimetype": "text/x-python",
   "name": "python",
   "nbconvert_exporter": "python",
   "pygments_lexer": "ipython3",
   "version": "3.11.3"
  }
 },
 "nbformat": 4,
 "nbformat_minor": 5
}
